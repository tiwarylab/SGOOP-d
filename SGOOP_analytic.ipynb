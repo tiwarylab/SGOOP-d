{
 "cells": [
  {
   "cell_type": "code",
   "execution_count": 1,
   "metadata": {},
   "outputs": [],
   "source": [
    "import time\n",
    "import numpy as np\n",
    "import matplotlib.pyplot as plt\n",
    "from mpl_toolkits.axes_grid1 import make_axes_locatable\n",
    "from matplotlib.ticker import MaxNLocator\n",
    "plt.rcParams['mathtext.fontset'] = 'stix'\n",
    "\n",
    "from sgoopT import stationary, mu_factor, eigenval, sg_transmat, sgap\n",
    "from cmap1dT import SgoopDistance\n",
    "import scipy.optimize as opt"
   ]
  },
  {
   "cell_type": "markdown",
   "metadata": {},
   "source": [
    "# Variables"
   ]
  },
  {
   "cell_type": "code",
   "execution_count": 2,
   "metadata": {},
   "outputs": [],
   "source": [
    "# data:\n",
    "filename={}\n",
    "s={}\n",
    "weights={}\n",
    "mids={}\n",
    "prob={}\n",
    "freeE={}\n",
    "\n",
    "# MD parameters:\n",
    "T=300.0\n",
    "beta=1000/(T*8.28) # kT=(8.28/1000)*T (kJ/mol/K)\n",
    "Rout=100  # (unit: steps/lines)\n",
    "\n",
    "# metaD parameters:\n",
    "stride={}\n",
    "wbias={}\n",
    "delta_beta={}\n",
    "\n",
    "# SGOOP parameters:\n",
    "rc_bin={}\n",
    "wells={}\n",
    "th={}\n",
    "coeff={}\n",
    "rc={}\n",
    "pi={}\n",
    "MU={}\n",
    "S={}\n",
    "E={}\n",
    "binedges={}\n"
   ]
  },
  {
   "cell_type": "markdown",
   "metadata": {},
   "source": [
    "# First SGOOP"
   ]
  },
  {
   "cell_type": "markdown",
   "metadata": {},
   "source": [
    "### Read trajectory files"
   ]
  },
  {
   "cell_type": "code",
   "execution_count": 3,
   "metadata": {},
   "outputs": [],
   "source": [
    "# Read and combine three unbiased data:\n",
    "for i in range(3):\n",
    "    filename['unbiased']='./DATA_aladip/unbiased_T300_long/COLVAR{}'.format(i+1)\n",
    "    if i==0:\n",
    "        data = np.loadtxt(filename['unbiased'], unpack=True, usecols=(1,2,3,4,5,6), skiprows=1)\n",
    "    else:\n",
    "        data_i = np.loadtxt(filename['unbiased'], unpack=True, usecols=(1,2,3,4,5,6), skiprows=1)\n",
    "        data = np.hstack((data, data_i))"
   ]
  },
  {
   "cell_type": "code",
   "execution_count": 4,
   "metadata": {},
   "outputs": [],
   "source": [
    "s['1']=data"
   ]
  },
  {
   "cell_type": "markdown",
   "metadata": {},
   "source": [
    "### Spectral gap optimization: Find optimal RC $\\chi^{(1)}$"
   ]
  },
  {
   "cell_type": "code",
   "execution_count": null,
   "metadata": {},
   "outputs": [],
   "source": [
    "def compute_sgap(coeff_i, rc_bin_i=20, wells_i=2, weights_i=None):\n",
    "    # function to be used in basinhopping. records function evaluations and returns -spectral gap\n",
    "    global nfev\n",
    "    nfev +=1\n",
    "    rc['biased1']=np.dot(coeff_i, s['1'][:,:50000]) # note s['1']=s['unbiased']\n",
    "    rc['i'] = np.dot(coeff_i, s['1'])\n",
    "    \n",
    "    pi['i'], _ = stationary(rc['i'], rc_bin=rc_bin_i)\n",
    "    MU['i'] = mu_factor(rc['biased1'], pi['i'], rc_bin=rc_bin_i, max_d=1)\n",
    "    S['i'] = sg_transmat(rc_bin_i, pi['i'], MU['i'], max_d=1)\n",
    "    \n",
    "    return sgap(S['i'], wells_i)\n",
    "\n",
    "def print_fun(x, f, accepted):\n",
    "    global now,last,nfev,lastf\n",
    "    now=time.time()\n",
    "    print(x,end=' ')\n",
    "    if accepted == 1:\n",
    "        print(\"with spectral gap %.4f accepted after %3i runs (%.3f)\" % (-f, nfev-lastf, now-last))\n",
    "    else:\n",
    "        print(\"with spectral gap %.4f declined after %3i runs (%.3f)\" % (-f, nfev-lastf, now-last))\n",
    "    last=now\n",
    "    lastf=nfev\n",
    "\n",
    "start = time.time()\n",
    "\n",
    "coeff['1']=np.array([0.82665355,  1.16592255, -0.11967506,  0.57802668,  0.01336444, 0.24045454]) # RC found from biased MD.\n",
    "rc_bin['1']=50\n",
    "wells['1']=3\n",
    "\n",
    "def opti_func(coeff_i):\n",
    "    return -compute_sgap(coeff_i, rc_bin_i=rc_bin['1'], wells_i=wells['1'])\n",
    "\n",
    "last = start\n",
    "lastf = nfev = 0\n",
    "minimizer_kwargs = {\"options\": {\"maxiter\":10}}\n",
    "ret = opt.basinhopping(opti_func, coeff['1'], niter=100, T=.001, stepsize=.1, minimizer_kwargs=minimizer_kwargs, callback=print_fun)\n",
    "end = time.time()\n",
    "print(end-start)\n",
    "ret"
   ]
  },
  {
   "cell_type": "markdown",
   "metadata": {},
   "source": [
    "### Exp(eigenvalues) and 0th eigenvectors of MaxCal-based rate matrix for optimal RC $\\chi^{(1)}$"
   ]
  },
  {
   "cell_type": "code",
   "execution_count": 5,
   "metadata": {},
   "outputs": [
    {
     "data": {
      "image/png": "[encoded data removed]",
      "text/plain": [
       "<Figure size 576x288 with 2 Axes>"
      ]
     },
     "metadata": {
      "needs_background": "light"
     },
     "output_type": "display_data"
    }
   ],
   "source": [
    "# parameters:\n",
    "rc_bin['1']=50\n",
    "\n",
    "coeff['1']=np.array([0.80498982, 1.09595729, -0.04571163, 0.38052936, 0.1117987, 0.26674155])\n",
    "\n",
    "# data:\n",
    "rc['unbiased'] = np.dot(coeff['1'], s['1'][:,:50000])\n",
    "rc['1'] = np.dot(coeff['1'], s['1'])\n",
    "pi['1'], binedges['1'] = stationary(rc['1'], rc_bin=rc_bin['1'])\n",
    "MU['1'] = mu_factor(rc['unbiased'], pi['1'], rc_bin=rc_bin['1'], max_d=1)\n",
    "S['1'] = sg_transmat(rc_bin['1'], pi['1'], MU['1'], max_d=1)\n",
    "E['1'] = eigenval(S['1'])\n",
    "eval1, exp_eval1, evec1 = E['1']\n",
    "rate1 = -eval1\n",
    "\n",
    "# Plottings:\n",
    "fig, ax=plt.subplots(figsize=(8,4), nrows=1, ncols=2)\n",
    "\n",
    "ax[0].scatter(np.arange(exp_eval1.shape[0]), exp_eval1)\n",
    "ax[1].plot(evec1[:,0])\n",
    "\n",
    "ax[0].tick_params(which='major', axis='both', direction='in', labelsize=16, pad=1)\n",
    "ax[0].set_xlabel('Index $i$', size=16)\n",
    "ax[0].set_ylabel('$\\lambda^{(1)}$', size=20).set_rotation(0)\n",
    "ax[0].yaxis.set_label_coords(-0.17, 0.5)\n",
    "ax[0].set_xlim(-0.5, rc_bin['1']+0.5)\n",
    "\n",
    "ax[1].tick_params(which='major', axis='both', direction='in', labelsize=16, pad=1)\n",
    "ax[1].set_xlabel('Index $i$', size=16)\n",
    "ax[1].set_ylabel('$\\psi^{(1)}_0$', size=20).set_rotation(0)\n",
    "ax[1].yaxis.set_label_coords(-0.17, 0.5)\n",
    "ax[1].set_xlim(-0.5,rc_bin['1']+0.5)\n",
    "\n",
    "fig.tight_layout()\n",
    "plt.show()"
   ]
  },
  {
   "cell_type": "markdown",
   "metadata": {},
   "source": [
    "# Second SGOOP"
   ]
  },
  {
   "cell_type": "code",
   "execution_count": 6,
   "metadata": {},
   "outputs": [],
   "source": [
    "s['2']=data"
   ]
  },
  {
   "cell_type": "markdown",
   "metadata": {},
   "source": [
    "This biased data is used for computing NN transitions."
   ]
  },
  {
   "cell_type": "code",
   "execution_count": 7,
   "metadata": {},
   "outputs": [],
   "source": [
    "filename['biased1']='./DATA_aladip/unbiased_T300_long/biased1/COLVAR'\n",
    "data_b = np.loadtxt(filename['biased1'], unpack=True, usecols=(4,5,6,7,8,9), skiprows=7)"
   ]
  },
  {
   "cell_type": "markdown",
   "metadata": {},
   "source": [
    "Calculate the w_arr as the inverse of marginal probability. We will weight our stationary density by w_arr to obtain conditional density."
   ]
  },
  {
   "cell_type": "code",
   "execution_count": 8,
   "metadata": {},
   "outputs": [],
   "source": [
    "binedges['1'][-1]+=1000\n",
    "idx_arr = np.digitize(rc['1'], binedges['1'])-1\n",
    "w_arr=pi['1'][idx_arr]"
   ]
  },
  {
   "cell_type": "markdown",
   "metadata": {},
   "source": [
    "### Spectral gap optimization: Find optimal RC $\\chi^{(2)}$"
   ]
  },
  {
   "cell_type": "code",
   "execution_count": null,
   "metadata": {},
   "outputs": [],
   "source": [
    "def compute_sgap(coeff_i, rc_bin_i=20, wells_i=2, weights_i=None):\n",
    "    # function to be used in basinhopping. records function evaluations and returns -spectral gap\n",
    "    global nfev\n",
    "    nfev +=1\n",
    "    rc['biased1']=np.dot(coeff_i, data_b[:,5000:])\n",
    "    rc['i'] = np.dot(coeff_i, s['2'])\n",
    "    \n",
    "    pi['i'], _ = stationary(rc['i'], rc_bin=rc_bin_i, weights=1/w_arr)\n",
    "    MU['i'] = mu_factor(rc['biased1'], pi['i'], rc_bin=rc_bin_i, max_d=1)\n",
    "    S['i'] = sg_transmat(rc_bin_i, pi['i'], MU['i'], max_d=1)\n",
    "    \n",
    "    return sgap(S['i'], wells_i)\n",
    "\n",
    "def print_fun(x, f, accepted):\n",
    "    global now,last,nfev,lastf\n",
    "    now=time.time()\n",
    "    print(x,end=' ')\n",
    "    if accepted == 1:\n",
    "        print(\"with spectral gap %.4f accepted after %3i runs (%.3f)\" % (-f, nfev-lastf, now-last))\n",
    "    else:\n",
    "        print(\"with spectral gap %.4f declined after %3i runs (%.3f)\" % (-f, nfev-lastf, now-last))\n",
    "    last=now\n",
    "    lastf=nfev\n",
    "\n",
    "start = time.time()\n",
    "\n",
    "coeff['2']=np.array([1.0, 1.0, 0.5, -0.5, -1.0, -1.0])\n",
    "rc_bin['2']=50\n",
    "wells['2']=3\n",
    "\n",
    "def opti_func(coeff_i):\n",
    "    return -compute_sgap(coeff_i, rc_bin_i=rc_bin['2'], wells_i=wells['2'], weights_i=1/w_arr)\n",
    "\n",
    "last = start\n",
    "lastf = nfev = 0\n",
    "minimizer_kwargs = {\"options\": {\"maxiter\":10}}\n",
    "ret = opt.basinhopping(opti_func, coeff['2'], niter=100, T=.01, stepsize=.1, minimizer_kwargs=minimizer_kwargs, callback=print_fun)\n",
    "end = time.time()\n",
    "print(end-start)\n",
    "ret"
   ]
  },
  {
   "cell_type": "markdown",
   "metadata": {},
   "source": [
    "### Exp(eigenvalues) and 0th eigenvectors of MaxCal-based rate matrix for optimal RC $\\chi^{(2)}$"
   ]
  },
  {
   "cell_type": "code",
   "execution_count": 9,
   "metadata": {},
   "outputs": [
    {
     "data": {
      "image/png": "[encoded data removed]",
      "text/plain": [
       "<Figure size 576x288 with 2 Axes>"
      ]
     },
     "metadata": {
      "needs_background": "light"
     },
     "output_type": "display_data"
    }
   ],
   "source": [
    "# parameters:\n",
    "rc_bin['2']=50\n",
    "\n",
    "coeff['2']=np.array([3.97779345, -6.50021435,  2.98986224,  0.59135935, -7.43784617, 2.06918752])\n",
    "\n",
    "# data:\n",
    "rc['biased1'] = np.dot(coeff['2'], data_b[:,5000:20000])\n",
    "rc['2'] = np.dot(coeff['2'], s['2'])\n",
    "pi['2'], binedges['2'] = stationary(rc['2'], rc_bin=rc_bin['2'], weights=1/w_arr)\n",
    "MU['2'] = mu_factor(rc['biased1'], pi['2'], rc_bin=rc_bin['2'], max_d=1)\n",
    "S['2'] = sg_transmat(rc_bin['2'], pi['2'], MU['2'], max_d=1)\n",
    "E['2'] = eigenval(S['2'])\n",
    "eval2, exp_eval2, evec2 = E['2']\n",
    "rate2 = -eval2\n",
    "\n",
    "# Plottings:\n",
    "fig, ax=plt.subplots(figsize=(8,4), nrows=1, ncols=2)\n",
    "\n",
    "ax[0].scatter(np.arange(exp_eval2.shape[0]), exp_eval2)\n",
    "ax[1].plot(evec2[:,0])\n",
    "\n",
    "ax[0].tick_params(which='major', axis='both', direction='in', labelsize=16, pad=1)\n",
    "ax[0].set_xlabel('Index $i$', size=16)\n",
    "ax[0].set_ylabel('$\\lambda^{(2)}$', size=20).set_rotation(0)\n",
    "ax[0].yaxis.set_label_coords(-0.17, 0.5)\n",
    "ax[0].set_xlim(-0.5, rc_bin['2']+0.5)\n",
    "\n",
    "ax[1].tick_params(which='major', axis='both', direction='in', labelsize=16, pad=1)\n",
    "ax[1].set_xlabel('Index $i$', size=16)\n",
    "ax[1].set_ylabel('$\\psi^{(2)}_0$', size=20).set_rotation(0)\n",
    "ax[1].yaxis.set_label_coords(-0.17, 0.5)\n",
    "ax[1].set_xlim(-0.5,rc_bin['2']+0.5)\n",
    "\n",
    "fig.tight_layout()\n",
    "plt.show()"
   ]
  },
  {
   "cell_type": "markdown",
   "metadata": {},
   "source": [
    "# SGOOP-d"
   ]
  },
  {
   "cell_type": "code",
   "execution_count": 10,
   "metadata": {},
   "outputs": [],
   "source": [
    "sgd1 = SgoopDistance(coeff['1'], eval1, evec1, binedges['1'])\n",
    "sgd2 = SgoopDistance(coeff['2'], eval2, evec2, binedges['2'])\n",
    "\n",
    "def rate1xd(pos1, pos2, K=1, num_eig=rc_bin['1']):\n",
    "    \"\"\"\n",
    "    Calculate rate1 * d_comm.\n",
    "    \"\"\"\n",
    "    d_comm1 = sgd1.pairwise_d(pos1, pos2, num_eig)\n",
    "    d_comm2 = sgd2.pairwise_d(pos1, pos2, num_eig)\n",
    "    \n",
    "    d_hat1 = rate1[1]*d_comm1\n",
    "    d_hat2 = rate2[1]*d_comm2\n",
    "    \n",
    "    return d_hat1 + K*d_hat2"
   ]
  },
  {
   "cell_type": "code",
   "execution_count": 11,
   "metadata": {},
   "outputs": [
    {
     "data": {
      "image/png": "[encoded data removed]",
      "text/plain": [
       "<Figure size 576x288 with 2 Axes>"
      ]
     },
     "metadata": {
      "needs_background": "light"
     },
     "output_type": "display_data"
    }
   ],
   "source": [
    "# states\n",
    "C7eq1=(-2.8, 2.9, 0.3)\n",
    "C7eq2=(-1.25, 1.0, 0.3)\n",
    "C7ax=(1.2, -0.8, 0.3)\n",
    "\n",
    "A=( np.cos(C7eq1[0]), np.sin(C7eq1[0]), np.cos(C7eq1[1]), np.sin(C7eq1[1]), np.cos(C7eq1[2]), np.sin(C7eq1[2]) )\n",
    "B=( np.cos(C7eq2[0]), np.sin(C7eq2[0]), np.cos(C7eq2[1]), np.sin(C7eq2[1]), np.cos(C7eq2[2]), np.sin(C7eq2[2]) )\n",
    "C=( np.cos(C7ax[0]), np.sin(C7ax[0]), np.cos(C7ax[1]), np.sin(C7ax[1]), np.cos(C7ax[2]), np.sin(C7ax[2]) )\n",
    "\n",
    "K_ast=rate1[1]/rate2[1]\n",
    "\n",
    "kd=np.array([rate1xd(A,B, K_ast), rate1xd(A,C, K_ast), rate1xd(B,C, K_ast)])\n",
    "\n",
    "# Plottings:\n",
    "K_arr=np.arange(0,200,1)\n",
    "fig, ax=plt.subplots(figsize=(8,4), nrows=1, ncols=2)\n",
    "ax[0].plot([K_ast]*3, np.linspace(-200,3000,3), 'k--')\n",
    "ax[0].plot(K_arr, rate1xd(A,B,K_arr), 'b-', label='AB')\n",
    "ax[0].plot(K_arr, rate1xd(A,C,K_arr), 'r-', label='AC')\n",
    "ax[0].plot(K_arr, rate1xd(B,C,K_arr), 'g--', label='BC')\n",
    "\n",
    "ax[1].scatter(np.arange(kd.shape[0]), kd, c=['b', 'r', 'g'])\n",
    "\n",
    "ax[0].tick_params(axis='both', which='major', direction='in', labelsize=16)\n",
    "ax[0].set_xlabel('$K$', size=20)\n",
    "ax[0].set_ylabel('$k^{(1)}_1 d_K$', size=20)\n",
    "ax[0].set_xlim(0,1)\n",
    "ax[0].set_ylim(-100,2600)\n",
    "ax[0].legend(fontsize=16)\n",
    "\n",
    "ax[1].tick_params(which='major', axis='both', direction='in', labelsize=16)\n",
    "ax[1].set_xticks([0, 1, 2])\n",
    "labels = [item.get_text() for item in ax[1].get_xticklabels()]\n",
    "ax[1].set_xticklabels(['AB', 'AC', 'BC'])\n",
    "ax[1].set_ylim(-100,2600)\n",
    "\n",
    "fig.tight_layout()\n",
    "plt.show()"
   ]
  }
 ],
 "metadata": {
  "kernelspec": {
   "display_name": "Python 3",
   "language": "python",
   "name": "python3"
  },
  "language_info": {
   "codemirror_mode": {
    "name": "ipython",
    "version": 3
   },
   "file_extension": ".py",
   "mimetype": "text/x-python",
   "name": "python",
   "nbconvert_exporter": "python",
   "pygments_lexer": "ipython3",
   "version": "3.7.3"
  }
 },
 "nbformat": 4,
 "nbformat_minor": 2
}
